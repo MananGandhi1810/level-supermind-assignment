{
 "cells": [
  {
   "cell_type": "code",
   "execution_count": 6,
   "metadata": {},
   "outputs": [
    {
     "name": "stdout",
     "output_type": "stream",
     "text": [
      "Note: you may need to restart the kernel to use updated packages.Requirement already satisfied: instagrapi in c:\\users\\dell\\appdata\\local\\programs\\python\\python311\\lib\\site-packages (2.1.3)\n",
      "Requirement already satisfied: python-dotenv in c:\\users\\dell\\appdata\\local\\programs\\python\\python311\\lib\\site-packages (1.0.1)\n",
      "Collecting pandas\n",
      "  Downloading pandas-2.2.3-cp311-cp311-win_amd64.whl (11.6 MB)\n",
      "                                              0.0/11.6 MB ? eta -:--:--\n",
      "     -                                        0.4/11.6 MB 11.6 MB/s eta 0:00:01\n",
      "     -                                        0.6/11.6 MB 8.8 MB/s eta 0:00:02\n",
      "     --                                       0.7/11.6 MB 6.3 MB/s eta 0:00:02\n",
      "     ---                                      0.9/11.6 MB 5.6 MB/s eta 0:00:02\n",
      "     ---                                      1.1/11.6 MB 5.3 MB/s eta 0:00:02\n",
      "     ----                                     1.2/11.6 MB 5.1 MB/s eta 0:00:03\n",
      "     ----                                     1.3/11.6 MB 4.4 MB/s eta 0:00:03\n",
      "     ----                                     1.4/11.6 MB 4.1 MB/s eta 0:00:03\n",
      "     ----                                     1.4/11.6 MB 4.1 MB/s eta 0:00:03\n",
      "     ----                                     1.4/11.6 MB 4.1 MB/s eta 0:00:03\n",
      "     ----                                     1.4/11.6 MB 4.1 MB/s eta 0:00:03\n",
      "     ----                                     1.4/11.6 MB 4.1 MB/s eta 0:00:03\n",
      "     ----                                     1.4/11.6 MB 4.1 MB/s eta 0:00:03\n",
      "     ----                                     1.4/11.6 MB 2.4 MB/s eta 0:00:05\n",
      "     -----                                    1.5/11.6 MB 2.4 MB/s eta 0:00:05\n",
      "     -----                                    1.6/11.6 MB 2.4 MB/s eta 0:00:05\n",
      "     -----                                    1.6/11.6 MB 2.4 MB/s eta 0:00:05\n",
      "     -----                                    1.6/11.6 MB 2.4 MB/s eta 0:00:05\n",
      "     -----                                    1.6/11.6 MB 2.4 MB/s eta 0:00:05\n",
      "     -----                                    1.6/11.6 MB 2.4 MB/s eta 0:00:05\n",
      "     -----                                    1.6/11.6 MB 1.8 MB/s eta 0:00:06\n",
      "     -----                                    1.7/11.6 MB 1.8 MB/s eta 0:00:06\n",
      "     ------                                   1.8/11.6 MB 1.8 MB/s eta 0:00:06\n",
      "     ------                                   1.9/11.6 MB 1.9 MB/s eta 0:00:06\n",
      "     ------                                   2.0/11.6 MB 1.9 MB/s eta 0:00:06\n",
      "     ------                                   2.0/11.6 MB 1.9 MB/s eta 0:00:06\n",
      "     ------                                   2.0/11.6 MB 1.9 MB/s eta 0:00:06\n",
      "     ------                                   2.0/11.6 MB 1.9 MB/s eta 0:00:06\n",
      "     ------                                   2.0/11.6 MB 1.9 MB/s eta 0:00:06\n",
      "     ------                                   2.0/11.6 MB 1.9 MB/s eta 0:00:06\n",
      "     ------                                   2.0/11.6 MB 1.5 MB/s eta 0:00:07\n",
      "     -------                                  2.1/11.6 MB 1.5 MB/s eta 0:00:07\n",
      "     -------                                  2.2/11.6 MB 1.6 MB/s eta 0:00:06\n",
      "     -------                                  2.3/11.6 MB 1.6 MB/s eta 0:00:06\n",
      "     --------                                 2.4/11.6 MB 1.7 MB/s eta 0:00:06\n",
      "     --------                                 2.5/11.6 MB 1.6 MB/s eta 0:00:06\n",
      "     --------                                 2.5/11.6 MB 1.6 MB/s eta 0:00:06\n",
      "     --------                                 2.5/11.6 MB 1.6 MB/s eta 0:00:06\n",
      "     --------                                 2.5/11.6 MB 1.6 MB/s eta 0:00:06\n",
      "     --------                                 2.5/11.6 MB 1.6 MB/s eta 0:00:06\n",
      "     --------                                 2.5/11.6 MB 1.4 MB/s eta 0:00:07\n",
      "     ---------                                2.6/11.6 MB 1.5 MB/s eta 0:00:07\n",
      "     ---------                                2.9/11.6 MB 1.5 MB/s eta 0:00:06\n",
      "     ---------                                2.9/11.6 MB 1.5 MB/s eta 0:00:06\n",
      "     ---------                                2.9/11.6 MB 1.5 MB/s eta 0:00:06\n",
      "     ---------                                2.9/11.6 MB 1.5 MB/s eta 0:00:06\n",
      "     ---------                                2.9/11.6 MB 1.5 MB/s eta 0:00:06\n",
      "     ---------                                2.9/11.6 MB 1.5 MB/s eta 0:00:06\n",
      "     ---------                                2.9/11.6 MB 1.5 MB/s eta 0:00:06\n",
      "     ----------                               2.9/11.6 MB 1.4 MB/s eta 0:00:07\n",
      "     ----------                               3.1/11.6 MB 1.4 MB/s eta 0:00:07\n",
      "     ----------                               3.1/11.6 MB 1.4 MB/s eta 0:00:07\n",
      "     ----------                               3.1/11.6 MB 1.4 MB/s eta 0:00:07\n",
      "     ----------                               3.1/11.6 MB 1.4 MB/s eta 0:00:07\n",
      "     ----------                               3.1/11.6 MB 1.4 MB/s eta 0:00:07\n",
      "     ----------                               3.1/11.6 MB 1.4 MB/s eta 0:00:07\n",
      "     ----------                               3.1/11.6 MB 1.4 MB/s eta 0:00:07\n",
      "     ----------                               3.1/11.6 MB 1.4 MB/s eta 0:00:07\n",
      "     ----------                               3.1/11.6 MB 1.4 MB/s eta 0:00:07\n",
      "     ----------                               3.1/11.6 MB 1.4 MB/s eta 0:00:07\n",
      "     ----------                               3.1/11.6 MB 1.2 MB/s eta 0:00:07\n",
      "     -----------                              3.2/11.6 MB 1.2 MB/s eta 0:00:07\n",
      "     -----------                              3.5/11.6 MB 1.3 MB/s eta 0:00:07\n",
      "     ------------                             3.7/11.6 MB 1.4 MB/s eta 0:00:06\n",
      "     -------------                            3.9/11.6 MB 1.4 MB/s eta 0:00:06\n",
      "     --------------                           4.1/11.6 MB 1.5 MB/s eta 0:00:06\n",
      "     --------------                           4.1/11.6 MB 1.5 MB/s eta 0:00:06\n",
      "     --------------                           4.2/11.6 MB 1.5 MB/s eta 0:00:06\n",
      "     --------------                           4.3/11.6 MB 1.5 MB/s eta 0:00:05\n",
      "     ---------------                          4.5/11.6 MB 1.5 MB/s eta 0:00:05\n",
      "     ---------------                          4.5/11.6 MB 1.5 MB/s eta 0:00:05\n",
      "     ---------------                          4.6/11.6 MB 1.5 MB/s eta 0:00:05\n",
      "     ---------------                          4.6/11.6 MB 1.5 MB/s eta 0:00:05\n",
      "     ---------------                          4.6/11.6 MB 1.5 MB/s eta 0:00:05\n",
      "     ---------------                          4.6/11.6 MB 1.5 MB/s eta 0:00:05\n",
      "     ---------------                          4.6/11.6 MB 1.5 MB/s eta 0:00:05\n",
      "     ---------------                          4.6/11.6 MB 1.5 MB/s eta 0:00:05\n",
      "     ----------------                         4.6/11.6 MB 1.4 MB/s eta 0:00:05\n",
      "     ----------------                         4.8/11.6 MB 1.4 MB/s eta 0:00:05\n",
      "     -----------------                        5.0/11.6 MB 1.4 MB/s eta 0:00:05\n",
      "     -----------------                        5.2/11.6 MB 1.5 MB/s eta 0:00:05\n",
      "     ------------------                       5.4/11.6 MB 1.5 MB/s eta 0:00:05\n",
      "     ------------------                       5.4/11.6 MB 1.5 MB/s eta 0:00:05\n",
      "     ------------------                       5.4/11.6 MB 1.5 MB/s eta 0:00:05\n",
      "     ------------------                       5.4/11.6 MB 1.5 MB/s eta 0:00:05\n",
      "     ------------------                       5.4/11.6 MB 1.5 MB/s eta 0:00:05\n",
      "     ------------------                       5.4/11.6 MB 1.4 MB/s eta 0:00:05\n",
      "     ------------------                       5.4/11.6 MB 1.4 MB/s eta 0:00:05\n",
      "     ------------------                       5.4/11.6 MB 1.4 MB/s eta 0:00:05\n",
      "     ------------------                       5.4/11.6 MB 1.4 MB/s eta 0:00:05\n",
      "     ------------------                       5.4/11.6 MB 1.4 MB/s eta 0:00:05\n",
      "     ------------------                       5.4/11.6 MB 1.4 MB/s eta 0:00:05\n",
      "     ------------------                       5.4/11.6 MB 1.4 MB/s eta 0:00:05\n",
      "     -------------------                      5.6/11.6 MB 1.4 MB/s eta 0:00:05\n",
      "     -------------------                      5.7/11.6 MB 1.4 MB/s eta 0:00:05\n",
      "     -------------------                      5.8/11.6 MB 1.4 MB/s eta 0:00:05\n",
      "     --------------------                     5.9/11.6 MB 1.4 MB/s eta 0:00:05\n",
      "     ---------------------                    6.2/11.6 MB 1.5 MB/s eta 0:00:04\n",
      "     ---------------------                    6.3/11.6 MB 1.5 MB/s eta 0:00:04\n",
      "     ----------------------                   6.4/11.6 MB 1.5 MB/s eta 0:00:04\n",
      "     ----------------------                   6.4/11.6 MB 1.5 MB/s eta 0:00:04\n",
      "     ----------------------                   6.4/11.6 MB 1.5 MB/s eta 0:00:04\n",
      "     ----------------------                   6.4/11.6 MB 1.5 MB/s eta 0:00:04\n",
      "     ----------------------                   6.4/11.6 MB 1.5 MB/s eta 0:00:04\n",
      "     ----------------------                   6.5/11.6 MB 1.4 MB/s eta 0:00:04\n",
      "     ----------------------                   6.6/11.6 MB 1.4 MB/s eta 0:00:04\n",
      "     -----------------------                  6.9/11.6 MB 1.5 MB/s eta 0:00:04\n",
      "     ------------------------                 7.2/11.6 MB 1.5 MB/s eta 0:00:03\n",
      "     -------------------------                7.5/11.6 MB 1.6 MB/s eta 0:00:03\n",
      "     --------------------------               7.6/11.6 MB 1.6 MB/s eta 0:00:03\n",
      "     --------------------------               7.7/11.6 MB 1.6 MB/s eta 0:00:03\n",
      "     ---------------------------              7.9/11.6 MB 1.6 MB/s eta 0:00:03\n",
      "     ---------------------------              8.1/11.6 MB 1.6 MB/s eta 0:00:03\n",
      "     ----------------------------             8.2/11.6 MB 1.7 MB/s eta 0:00:03\n",
      "     ----------------------------             8.2/11.6 MB 1.6 MB/s eta 0:00:03\n",
      "     ----------------------------             8.3/11.6 MB 1.6 MB/s eta 0:00:03\n",
      "     ----------------------------             8.3/11.6 MB 1.6 MB/s eta 0:00:03\n",
      "     -----------------------------            8.5/11.6 MB 1.6 MB/s eta 0:00:02\n",
      "     -----------------------------            8.5/11.6 MB 1.7 MB/s eta 0:00:02\n",
      "     -----------------------------            8.6/11.6 MB 1.6 MB/s eta 0:00:02\n",
      "     -----------------------------            8.7/11.6 MB 1.6 MB/s eta 0:00:02\n",
      "     ------------------------------           8.8/11.6 MB 1.7 MB/s eta 0:00:02\n",
      "     -------------------------------          9.1/11.6 MB 1.7 MB/s eta 0:00:02\n",
      "     --------------------------------         9.3/11.6 MB 1.7 MB/s eta 0:00:02\n",
      "     --------------------------------         9.4/11.6 MB 1.7 MB/s eta 0:00:02\n",
      "     ---------------------------------        9.6/11.6 MB 1.7 MB/s eta 0:00:02\n",
      "     ---------------------------------        9.7/11.6 MB 1.8 MB/s eta 0:00:02\n",
      "     ----------------------------------       9.9/11.6 MB 1.8 MB/s eta 0:00:01\n",
      "     ----------------------------------       10.1/11.6 MB 1.8 MB/s eta 0:00:01\n",
      "     -----------------------------------      10.4/11.6 MB 1.8 MB/s eta 0:00:01\n",
      "     ------------------------------------     10.6/11.6 MB 1.8 MB/s eta 0:00:01\n",
      "     ------------------------------------     10.7/11.6 MB 1.8 MB/s eta 0:00:01\n",
      "     -------------------------------------    10.8/11.6 MB 1.8 MB/s eta 0:00:01\n",
      "     -------------------------------------    10.9/11.6 MB 1.8 MB/s eta 0:00:01\n",
      "     --------------------------------------   11.0/11.6 MB 1.8 MB/s eta 0:00:01\n",
      "     --------------------------------------   11.3/11.6 MB 1.8 MB/s eta 0:00:01\n",
      "     ---------------------------------------  11.6/11.6 MB 1.9 MB/s eta 0:00:01\n",
      "     ---------------------------------------  11.6/11.6 MB 1.9 MB/s eta 0:00:01\n",
      "     ---------------------------------------- 11.6/11.6 MB 1.9 MB/s eta 0:00:00\n",
      "Requirement already satisfied: requests<3.0,>=2.25.1 in c:\\users\\dell\\appdata\\local\\programs\\python\\python311\\lib\\site-packages (from instagrapi) (2.32.3)\n",
      "Requirement already satisfied: PySocks==1.7.1 in c:\\users\\dell\\appdata\\local\\programs\\python\\python311\\lib\\site-packages (from instagrapi) (1.7.1)\n",
      "Requirement already satisfied: pydantic==2.10.1 in c:\\users\\dell\\appdata\\local\\programs\\python\\python311\\lib\\site-packages (from instagrapi) (2.10.1)\n",
      "Requirement already satisfied: pycryptodomex==3.21.0 in c:\\users\\dell\\appdata\\local\\programs\\python\\python311\\lib\\site-packages (from instagrapi) (3.21.0)\n",
      "Requirement already satisfied: annotated-types>=0.6.0 in c:\\users\\dell\\appdata\\local\\programs\\python\\python311\\lib\\site-packages (from pydantic==2.10.1->instagrapi) (0.7.0)\n",
      "Requirement already satisfied: pydantic-core==2.27.1 in c:\\users\\dell\\appdata\\local\\programs\\python\\python311\\lib\\site-packages (from pydantic==2.10.1->instagrapi) (2.27.1)\n",
      "Requirement already satisfied: typing-extensions>=4.12.2 in c:\\users\\dell\\appdata\\local\\programs\\python\\python311\\lib\\site-packages (from pydantic==2.10.1->instagrapi) (4.12.2)\n",
      "Requirement already satisfied: numpy>=1.23.2 in c:\\users\\dell\\appdata\\local\\programs\\python\\python311\\lib\\site-packages (from pandas) (1.26.4)\n",
      "Requirement already satisfied: python-dateutil>=2.8.2 in c:\\users\\dell\\appdata\\roaming\\python\\python311\\site-packages (from pandas) (2.9.0.post0)\n",
      "Collecting pytz>=2020.1 (from pandas)\n",
      "  Downloading pytz-2024.2-py2.py3-none-any.whl (508 kB)\n",
      "                                              0.0/508.0 kB ? eta -:--:--\n",
      "     -----------------------------          399.4/508.0 kB 8.3 MB/s eta 0:00:01\n",
      "     -------------------------------------- 508.0/508.0 kB 6.4 MB/s eta 0:00:00\n",
      "Collecting tzdata>=2022.7 (from pandas)\n",
      "  Downloading tzdata-2024.2-py2.py3-none-any.whl (346 kB)\n",
      "                                              0.0/346.6 kB ? eta -:--:--\n",
      "     ------------------------------------- 346.6/346.6 kB 10.8 MB/s eta 0:00:00\n",
      "Requirement already satisfied: six>=1.5 in c:\\users\\dell\\appdata\\local\\programs\\python\\python311\\lib\\site-packages (from python-dateutil>=2.8.2->pandas) (1.17.0)\n",
      "Requirement already satisfied: charset-normalizer<4,>=2 in c:\\users\\dell\\appdata\\local\\programs\\python\\python311\\lib\\site-packages (from requests<3.0,>=2.25.1->instagrapi) (2.0.12)\n",
      "Requirement already satisfied: idna<4,>=2.5 in c:\\users\\dell\\appdata\\local\\programs\\python\\python311\\lib\\site-packages (from requests<3.0,>=2.25.1->instagrapi) (2.10)\n",
      "Requirement already satisfied: urllib3<3,>=1.21.1 in c:\\users\\dell\\appdata\\local\\programs\\python\\python311\\lib\\site-packages (from requests<3.0,>=2.25.1->instagrapi) (2.2.3)\n",
      "Requirement already satisfied: certifi>=2017.4.17 in c:\\users\\dell\\appdata\\local\\programs\\python\\python311\\lib\\site-packages (from requests<3.0,>=2.25.1->instagrapi) (2024.8.30)\n",
      "Installing collected packages: pytz, tzdata, pandas\n",
      "Successfully installed pandas-2.2.3 pytz-2024.2 tzdata-2024.2\n",
      "\n"
     ]
    },
    {
     "name": "stderr",
     "output_type": "stream",
     "text": [
      "WARNING: There was an error checking the latest version of pip.\n"
     ]
    }
   ],
   "source": [
    "%pip install instagrapi python-dotenv pandas"
   ]
  },
  {
   "cell_type": "code",
   "execution_count": 3,
   "metadata": {},
   "outputs": [],
   "source": [
    "%load_ext dotenv\n",
    "%dotenv"
   ]
  },
  {
   "cell_type": "code",
   "execution_count": 60,
   "metadata": {},
   "outputs": [],
   "source": [
    "from instagrapi import Client\n",
    "import os\n",
    "import pandas as pd\n",
    "import json"
   ]
  },
  {
   "cell_type": "code",
   "execution_count": 20,
   "metadata": {},
   "outputs": [
    {
     "data": {
      "text/plain": [
       "True"
      ]
     },
     "execution_count": 20,
     "metadata": {},
     "output_type": "execute_result"
    }
   ],
   "source": [
    "ACCOUNT_USERNAME = os.environ.get(\"ACCOUNT_USERNAME\")\n",
    "ACCOUNT_PASSWORD = os.environ.get(\"ACCOUNT_PASSWORD\")\n",
    "\n",
    "cl = Client()\n",
    "cl.login(ACCOUNT_USERNAME, ACCOUNT_PASSWORD)"
   ]
  },
  {
   "cell_type": "code",
   "execution_count": 44,
   "metadata": {},
   "outputs": [],
   "source": [
    "df = pd.DataFrame()\n",
    "\n",
    "def collect_data(username):\n",
    "    global df\n",
    "    user = cl.user_info_by_username_v1(username)\n",
    "    raw_medias = cl.user_medias(user.pk)\n",
    "    media = [x.model_dump() for x in raw_medias]\n",
    "    media = pd.DataFrame({k: [x[k] for x in media] for k in media[0]})\n",
    "    df = pd.concat([df, media])"
   ]
  },
  {
   "cell_type": "code",
   "execution_count": 45,
   "metadata": {},
   "outputs": [
    {
     "name": "stdout",
     "output_type": "stream",
     "text": [
      "4331\n"
     ]
    }
   ],
   "source": [
    "users = [\n",
    "    \"beerbiceps\",\n",
    "    \"hiteshchoudharyofficial\",\n",
    "    \"levelsupermind\",\n",
    "    \"neurotechh\",\n",
    "    \"mrbeast\",\n",
    "    \"433\",\n",
    "    \"khaby00\",\n",
    "    \"viraj_ghelani\",\n",
    "    \"indiasgotlatent\",\n",
    "]\n",
    "\n",
    "for username in users:\n",
    "    collect_data(username)\n",
    "print(len(df))"
   ]
  },
  {
   "cell_type": "code",
   "execution_count": 107,
   "metadata": {},
   "outputs": [
    {
     "data": {
      "text/plain": [
       "'{\"pk\": \"501113371\", \"username\": \"beerbiceps\", \"full_name\": \"Ranveer Allahbadia\", \"profile_pic_url\": HttpUrl(\"https://instagram.fbom19-3.fna.fbcdn.net/v/t51.2885-19/418671390_1098365544837568_3016557017977007907_n.jpg?stp=dst-jpg_e0_s150x150_tt6&_nc_ht=instagram.fbom19-3.fna.fbcdn.net&_nc_cat=1&_nc_ohc=JW2pD15fp2AQ7kNvgEM0mR3&_nc_gid=e72647a88cb14a62ae7729830b5f03ce&edm=ABmJApABAAAA&ccb=7-5&oh=00_AYAuWU_WNqXgKe7jkDf7-UvMtmq4ayAkuCjEFGJsJl_q5g&oe=677AA64C&_nc_sid=b41fef\"), \"profile_pic_url_hd\": None, \"is_private\": False}'"
      ]
     },
     "execution_count": 107,
     "metadata": {},
     "output_type": "execute_result"
    }
   ],
   "source": [
    "id_to_username = {}\n",
    "\n",
    "for username in users:\n",
    "    id_to_username[cl.user_info_by_username_v1(username).pk] = username\n",
    "\n",
    "print(json.loads(df[\"user\"][0].replace(\"'\", '\"')))\n",
    "\n",
    "df[\"username\"] = df.apply(\n",
    "    lambda x: json.loads(x.user.replace(\"'\", '\"'))[\"username\"], axis=1\n",
    ")\n",
    "df[\"location_name\"] = df.apply(\n",
    "    lambda x: x.location.get(\"name\") if x.location else \"\", axis=1\n",
    ")"
   ]
  },
  {
   "cell_type": "code",
   "execution_count": 113,
   "metadata": {},
   "outputs": [],
   "source": [
    "df[\"caption_text\"] = df.apply(lambda x: str(x[\"caption_text\"]).strip(), axis=1)\n",
    "df = df.drop(columns=[\"id\", \"comments_disabled\", \"commenting_disabled_for_viewer\", \"has_liked\", \"accessibility_caption\", \"title\", \"thumbnail_url\"])"
   ]
  },
  {
   "cell_type": "code",
   "execution_count": 114,
   "metadata": {},
   "outputs": [],
   "source": [
    "df.to_csv(\"dataset.csv\", index=False)"
   ]
  }
 ],
 "metadata": {
  "kernelspec": {
   "display_name": "Python 3",
   "language": "python",
   "name": "python3"
  },
  "language_info": {
   "codemirror_mode": {
    "name": "ipython",
    "version": 3
   },
   "file_extension": ".py",
   "mimetype": "text/x-python",
   "name": "python",
   "nbconvert_exporter": "python",
   "pygments_lexer": "ipython3",
   "version": "3.11.4"
  }
 },
 "nbformat": 4,
 "nbformat_minor": 2
}

{
 "cells": [
  {
   "cell_type": "code",
   "execution_count": 8,
   "metadata": {},
   "outputs": [
    {
     "name": "stdout",
     "output_type": "stream",
     "text": [
      "Requirement already satisfied: instagrapi in /opt/homebrew/lib/python3.13/site-packages (2.1.3)\n",
      "Requirement already satisfied: python-dotenv in /opt/homebrew/lib/python3.13/site-packages (1.0.1)\n",
      "Requirement already satisfied: pandas in /opt/homebrew/lib/python3.13/site-packages (2.2.3)\n",
      "Collecting pillow\n",
      "  Downloading pillow-11.1.0-cp313-cp313-macosx_11_0_arm64.whl.metadata (9.1 kB)\n",
      "Requirement already satisfied: requests<3.0,>=2.25.1 in /opt/homebrew/lib/python3.13/site-packages (from instagrapi) (2.32.3)\n",
      "Requirement already satisfied: PySocks==1.7.1 in /opt/homebrew/lib/python3.13/site-packages (from instagrapi) (1.7.1)\n",
      "Requirement already satisfied: pydantic==2.10.1 in /opt/homebrew/lib/python3.13/site-packages (from instagrapi) (2.10.1)\n",
      "Requirement already satisfied: pycryptodomex==3.21.0 in /opt/homebrew/lib/python3.13/site-packages (from instagrapi) (3.21.0)\n",
      "Requirement already satisfied: annotated-types>=0.6.0 in /opt/homebrew/lib/python3.13/site-packages (from pydantic==2.10.1->instagrapi) (0.7.0)\n",
      "Requirement already satisfied: pydantic-core==2.27.1 in /opt/homebrew/lib/python3.13/site-packages (from pydantic==2.10.1->instagrapi) (2.27.1)\n",
      "Requirement already satisfied: typing-extensions>=4.12.2 in /opt/homebrew/lib/python3.13/site-packages (from pydantic==2.10.1->instagrapi) (4.12.2)\n",
      "Requirement already satisfied: numpy>=1.26.0 in /opt/homebrew/lib/python3.13/site-packages (from pandas) (1.26.4)\n",
      "Requirement already satisfied: python-dateutil>=2.8.2 in /opt/homebrew/lib/python3.13/site-packages (from pandas) (2.9.0.post0)\n",
      "Requirement already satisfied: pytz>=2020.1 in /opt/homebrew/lib/python3.13/site-packages (from pandas) (2024.2)\n",
      "Requirement already satisfied: tzdata>=2022.7 in /opt/homebrew/lib/python3.13/site-packages (from pandas) (2024.2)\n",
      "Requirement already satisfied: six>=1.5 in /opt/homebrew/lib/python3.13/site-packages (from python-dateutil>=2.8.2->pandas) (1.17.0)\n",
      "Requirement already satisfied: charset-normalizer<4,>=2 in /opt/homebrew/lib/python3.13/site-packages (from requests<3.0,>=2.25.1->instagrapi) (3.4.0)\n",
      "Requirement already satisfied: idna<4,>=2.5 in /opt/homebrew/lib/python3.13/site-packages (from requests<3.0,>=2.25.1->instagrapi) (3.10)\n",
      "Requirement already satisfied: urllib3<3,>=1.21.1 in /opt/homebrew/lib/python3.13/site-packages (from requests<3.0,>=2.25.1->instagrapi) (2.2.3)\n",
      "Requirement already satisfied: certifi>=2017.4.17 in /opt/homebrew/lib/python3.13/site-packages (from requests<3.0,>=2.25.1->instagrapi) (2024.8.30)\n",
      "Downloading pillow-11.1.0-cp313-cp313-macosx_11_0_arm64.whl (3.1 MB)\n",
      "\u001b[2K   \u001b[38;2;114;156;31m━━━━━━━━━━━━━━━━━━━━━━━━━━━━━━━━━━━━━━━━\u001b[0m \u001b[32m3.1/3.1 MB\u001b[0m \u001b[31m2.7 MB/s\u001b[0m eta \u001b[36m0:00:00\u001b[0m MB/s\u001b[0m eta \u001b[36m0:00:01\u001b[0m:01\u001b[0m\n",
      "\u001b[?25hInstalling collected packages: pillow\n",
      "Successfully installed pillow-11.1.0\n",
      "\n",
      "\u001b[1m[\u001b[0m\u001b[34;49mnotice\u001b[0m\u001b[1;39;49m]\u001b[0m\u001b[39;49m A new release of pip is available: \u001b[0m\u001b[31;49m24.2\u001b[0m\u001b[39;49m -> \u001b[0m\u001b[32;49m24.3.1\u001b[0m\n",
      "\u001b[1m[\u001b[0m\u001b[34;49mnotice\u001b[0m\u001b[1;39;49m]\u001b[0m\u001b[39;49m To update, run: \u001b[0m\u001b[32;49mpython3.13 -m pip install --upgrade pip\u001b[0m\n",
      "Note: you may need to restart the kernel to use updated packages.\n"
     ]
    }
   ],
   "source": [
    "%pip install instagrapi python-dotenv pandas pillow"
   ]
  },
  {
   "cell_type": "code",
   "execution_count": 9,
   "metadata": {},
   "outputs": [
    {
     "name": "stdout",
     "output_type": "stream",
     "text": [
      "The dotenv extension is already loaded. To reload it, use:\n",
      "  %reload_ext dotenv\n"
     ]
    }
   ],
   "source": [
    "%load_ext dotenv\n",
    "%dotenv"
   ]
  },
  {
   "cell_type": "code",
   "execution_count": 10,
   "metadata": {},
   "outputs": [],
   "source": [
    "from instagrapi import Client\n",
    "import os\n",
    "import pandas as pd\n",
    "import json"
   ]
  },
  {
   "cell_type": "code",
   "execution_count": 11,
   "metadata": {},
   "outputs": [
    {
     "data": {
      "text/plain": [
       "True"
      ]
     },
     "execution_count": 11,
     "metadata": {},
     "output_type": "execute_result"
    }
   ],
   "source": [
    "ACCOUNT_USERNAME = os.environ.get(\"ACCOUNT_USERNAME\")\n",
    "ACCOUNT_PASSWORD = os.environ.get(\"ACCOUNT_PASSWORD\")\n",
    "\n",
    "cl = Client()\n",
    "cl.login(ACCOUNT_USERNAME, ACCOUNT_PASSWORD)"
   ]
  },
  {
   "cell_type": "code",
   "execution_count": 44,
   "metadata": {},
   "outputs": [],
   "source": [
    "df = pd.DataFrame()\n",
    "\n",
    "def collect_data(username):\n",
    "    global df\n",
    "    user = cl.user_info_by_username_v1(username)\n",
    "    raw_medias = cl.user_medias(user.pk)\n",
    "    media = [x.model_dump() for x in raw_medias]\n",
    "    media = pd.DataFrame({k: [x[k] for x in media] for k in media[0]})\n",
    "    df = pd.concat([df, media])"
   ]
  },
  {
   "cell_type": "code",
   "execution_count": 45,
   "metadata": {},
   "outputs": [
    {
     "name": "stdout",
     "output_type": "stream",
     "text": [
      "4331\n"
     ]
    }
   ],
   "source": [
    "users = [\n",
    "    \"beerbiceps\",\n",
    "    \"hiteshchoudharyofficial\",\n",
    "    \"levelsupermind\",\n",
    "    \"neurotechh\",\n",
    "    \"mrbeast\",\n",
    "    \"433\",\n",
    "    \"khaby00\",\n",
    "    \"viraj_ghelani\",\n",
    "    \"indiasgotlatent\",\n",
    "]\n",
    "\n",
    "for username in users:\n",
    "    collect_data(username)\n",
    "print(len(df))"
   ]
  },
  {
   "cell_type": "code",
   "execution_count": 107,
   "metadata": {},
   "outputs": [
    {
     "data": {
      "text/plain": [
       "'{\"pk\": \"501113371\", \"username\": \"beerbiceps\", \"full_name\": \"Ranveer Allahbadia\", \"profile_pic_url\": HttpUrl(\"https://instagram.fbom19-3.fna.fbcdn.net/v/t51.2885-19/418671390_1098365544837568_3016557017977007907_n.jpg?stp=dst-jpg_e0_s150x150_tt6&_nc_ht=instagram.fbom19-3.fna.fbcdn.net&_nc_cat=1&_nc_ohc=JW2pD15fp2AQ7kNvgEM0mR3&_nc_gid=e72647a88cb14a62ae7729830b5f03ce&edm=ABmJApABAAAA&ccb=7-5&oh=00_AYAuWU_WNqXgKe7jkDf7-UvMtmq4ayAkuCjEFGJsJl_q5g&oe=677AA64C&_nc_sid=b41fef\"), \"profile_pic_url_hd\": None, \"is_private\": False}'"
      ]
     },
     "execution_count": 107,
     "metadata": {},
     "output_type": "execute_result"
    }
   ],
   "source": [
    "id_to_username = {}\n",
    "\n",
    "for username in users:\n",
    "    id_to_username[cl.user_info_by_username_v1(username).pk] = username\n",
    "\n",
    "print(json.loads(df[\"user\"][0].replace(\"'\", '\"')))\n",
    "\n",
    "df[\"username\"] = df.apply(\n",
    "    lambda x: json.loads(x.user.replace(\"'\", '\"'))[\"username\"], axis=1\n",
    ")\n",
    "df[\"location_name\"] = df.apply(\n",
    "    lambda x: x.location.get(\"name\") if x.location else \"\", axis=1\n",
    ")"
   ]
  },
  {
   "cell_type": "code",
   "execution_count": 113,
   "metadata": {},
   "outputs": [],
   "source": [
    "df[\"caption_text\"] = df.apply(lambda x: str(x[\"caption_text\"]).strip(), axis=1)\n",
    "df = df.drop(columns=[\"id\", \"comments_disabled\", \"commenting_disabled_for_viewer\", \"has_liked\", \"accessibility_caption\", \"title\", \"thumbnail_url\"])"
   ]
  },
  {
   "cell_type": "code",
   "execution_count": 114,
   "metadata": {},
   "outputs": [],
   "source": [
    "df.to_csv(\"dataset.csv\", index=False)"
   ]
  }
 ],
 "metadata": {
  "kernelspec": {
   "display_name": "Python 3",
   "language": "python",
   "name": "python3"
  },
  "language_info": {
   "codemirror_mode": {
    "name": "ipython",
    "version": 3
   },
   "file_extension": ".py",
   "mimetype": "text/x-python",
   "name": "python",
   "nbconvert_exporter": "python",
   "pygments_lexer": "ipython3",
   "version": "3.13.0"
  }
 },
 "nbformat": 4,
 "nbformat_minor": 2
}
